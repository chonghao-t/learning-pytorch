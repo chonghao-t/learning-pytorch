{
 "cells": [
  {
   "cell_type": "code",
   "execution_count": null,
   "id": "3ef6f2f4",
   "metadata": {},
   "outputs": [
    {
     "name": "stdout",
     "output_type": "stream",
     "text": [
      "Using device: cuda\n",
      "Current device number is: 0\n",
      "GPU name is: NVIDIA GeForce RTX 3060 Laptop GPU\n"
     ]
    }
   ],
   "source": [
    "import torch\n",
    "\n",
    "device = torch.device(\"cuda\" if torch.cuda.is_available() else \"cpu\")\n",
    "print(f\"Using device: {device}\")\n",
    "devNumber = torch.cuda.current_device()\n",
    "print(f\"Current device number is: {devNumber}\")\n",
    "devName = torch.cuda.get_device_name(devNumber)\n",
    "print(f\"GPU name is: {devName}\")"
   ]
  },
  {
   "cell_type": "code",
   "execution_count": 2,
   "id": "a4491172",
   "metadata": {},
   "outputs": [
    {
     "name": "stdout",
     "output_type": "stream",
     "text": [
      "Torch version: 2.7.1+cu128\n",
      "CUDA available: True\n",
      "CUDA version: 12.8\n",
      "Device count: 1\n",
      "GPU name: NVIDIA GeForce RTX 3060 Laptop GPU\n"
     ]
    }
   ],
   "source": [
    "print(\"Torch version:\", torch.__version__)\n",
    "print(\"CUDA available:\", torch.cuda.is_available())\n",
    "print(\"CUDA version:\", torch.version.cuda)\n",
    "if torch.cuda.is_available():\n",
    "    print(\"Device count:\", torch.cuda.device_count())\n",
    "    print(\"GPU name:\", torch.cuda.get_device_name(0))"
   ]
  },
  {
   "cell_type": "code",
   "execution_count": 6,
   "id": "dfe4d11c",
   "metadata": {},
   "outputs": [],
   "source": [
    "import torch.nn as nn\n",
    "\n",
    "class SimpleNet(nn.Module):\n",
    "    def __init__(self):\n",
    "        super(SimpleNet, self).__init__()\n",
    "        self.linear1 = nn.Linear(100, 50)\n",
    "        self.relu = nn.ReLU()\n",
    "        self.linear2 = nn.Linear(50, 10)\n",
    "\n",
    "    def forward(self, x):\n",
    "        x = self.linear1(x)\n",
    "        x = self.relu(x)\n",
    "        x = self.linear2(x)\n",
    "        return x\n",
    "\n",
    "# 🧠 Instantiate and move model to GPU/CPU\n",
    "model = SimpleNet().to(device)\n"
   ]
  },
  {
   "cell_type": "code",
   "execution_count": 3,
   "id": "8cbc9706",
   "metadata": {},
   "outputs": [
    {
     "name": "stdout",
     "output_type": "stream",
     "text": [
      "CPU time: 4.6070 seconds\n",
      "GPU time: 0.2814 seconds\n"
     ]
    }
   ],
   "source": [
    "import torch\n",
    "import time\n",
    "\n",
    "# Adjust size for larger/smaller test\n",
    "size = 10000\n",
    "\n",
    "# Create two large tensors\n",
    "a_cpu = torch.randn(size, size)\n",
    "b_cpu = torch.randn(size, size)\n",
    "\n",
    "# Time on CPU\n",
    "start = time.time()\n",
    "result_cpu = torch.mm(a_cpu, b_cpu)\n",
    "end = time.time()\n",
    "print(f\"CPU time: {end - start:.4f} seconds\")\n",
    "\n",
    "# Check if CUDA is available\n",
    "if torch.cuda.is_available():\n",
    "    a_gpu = a_cpu.to('cuda')\n",
    "    b_gpu = b_cpu.to('cuda')\n",
    "\n",
    "    # Warm-up GPU (first operation can be slower)\n",
    "    _ = torch.mm(a_gpu, b_gpu)\n",
    "\n",
    "    torch.cuda.synchronize()  # Wait for GPU to finish\n",
    "\n",
    "    start = time.time()\n",
    "    result_gpu = torch.mm(a_gpu, b_gpu)\n",
    "    torch.cuda.synchronize()  # Wait again\n",
    "    end = time.time()\n",
    "\n",
    "    print(f\"GPU time: {end - start:.4f} seconds\")\n",
    "else:\n",
    "    print(\"CUDA not available.\")"
   ]
  }
 ],
 "metadata": {
  "kernelspec": {
   "display_name": "Python 3",
   "language": "python",
   "name": "python3"
  },
  "language_info": {
   "codemirror_mode": {
    "name": "ipython",
    "version": 3
   },
   "file_extension": ".py",
   "mimetype": "text/x-python",
   "name": "python",
   "nbconvert_exporter": "python",
   "pygments_lexer": "ipython3",
   "version": "3.13.5"
  }
 },
 "nbformat": 4,
 "nbformat_minor": 5
}
