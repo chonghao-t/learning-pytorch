{
 "cells": [
  {
   "cell_type": "markdown",
   "id": "71f6af94",
   "metadata": {},
   "source": [
    "### Import PyTorch"
   ]
  },
  {
   "cell_type": "code",
   "execution_count": 1,
   "id": "d8689422",
   "metadata": {},
   "outputs": [
    {
     "name": "stdout",
     "output_type": "stream",
     "text": [
      "2.7.1+cu128\n"
     ]
    }
   ],
   "source": [
    "import torch\n",
    "from torch import nn\n",
    "\n",
    "print(torch.__version__)"
   ]
  },
  {
   "cell_type": "markdown",
   "id": "166f81fd",
   "metadata": {},
   "source": [
    "### Create example dataset"
   ]
  },
  {
   "cell_type": "code",
   "execution_count": 3,
   "id": "2e695f14",
   "metadata": {},
   "outputs": [
    {
     "name": "stdout",
     "output_type": "stream",
     "text": [
      "Length of X: 50\n",
      "Length of y: 50\n"
     ]
    },
    {
     "data": {
      "text/plain": [
       "(tensor([[0.0000],\n",
       "         [0.0200],\n",
       "         [0.0400],\n",
       "         [0.0600],\n",
       "         [0.0800]]),\n",
       " tensor([[0.3000],\n",
       "         [0.3140],\n",
       "         [0.3280],\n",
       "         [0.3420],\n",
       "         [0.3560]]))"
      ]
     },
     "execution_count": 3,
     "metadata": {},
     "output_type": "execute_result"
    }
   ],
   "source": [
    "weight = 0.7\n",
    "bias = 0.3\n",
    "\n",
    "start = 0 \n",
    "end = 1\n",
    "step = 0.02\n",
    "X = torch.arange(start, end, step).unsqueeze(dim=1)\n",
    "y = weight * X + bias\n",
    "\n",
    "print(f\"Length of X: {len(X)}\") \n",
    "print(f\"Length of y: {len(y)}\")\n",
    "X[:5], y[:5]"
   ]
  },
  {
   "cell_type": "markdown",
   "id": "39efe53c",
   "metadata": {},
   "source": [
    "### Split dataset into training and test sets"
   ]
  },
  {
   "cell_type": "code",
   "execution_count": 4,
   "id": "4f1b35c7",
   "metadata": {},
   "outputs": [
    {
     "data": {
      "text/plain": [
       "(40, 10, 40, 10)"
      ]
     },
     "execution_count": 4,
     "metadata": {},
     "output_type": "execute_result"
    }
   ],
   "source": [
    "from sklearn.model_selection import train_test_split\n",
    "\n",
    "X_train, X_test = train_test_split(X,\n",
    "                                   test_size=0.2,\n",
    "                                   train_size=0.8,\n",
    "                                   random_state=42,\n",
    "                                   shuffle=False)\n",
    "y_train, y_test = train_test_split(y,\n",
    "                                   test_size=0.2,\n",
    "                                   train_size=0.8,\n",
    "                                   random_state=42,\n",
    "                                   shuffle=False)\n",
    "\n",
    "len(X_train), len(X_test), len(y_train), len(y_test) "
   ]
  },
  {
   "cell_type": "markdown",
   "id": "bb7485b3",
   "metadata": {},
   "source": [
    "### Visualize data"
   ]
  },
  {
   "cell_type": "code",
   "execution_count": 5,
   "id": "38bfbd02",
   "metadata": {},
   "outputs": [
    {
     "data": {
      "image/png": "[encoded data removed]",
      "text/plain": [
       "<Figure size 1000x700 with 1 Axes>"
      ]
     },
     "metadata": {},
     "output_type": "display_data"
    }
   ],
   "source": [
    "import matplotlib.pyplot as plt\n",
    "\n",
    "# Plots training data, test data, and compares predictions\n",
    "def plot_predictions(train_data=X_train,\n",
    "                     train_labels=y_train,\n",
    "                     test_data=X_test,\n",
    "                     test_labels=y_test,\n",
    "                     predictions=None):\n",
    "    plt.figure(figsize=(10,7))\n",
    "\n",
    "    # Plot training data in blue\n",
    "    plt.scatter(train_data, train_labels, c=\"b\", s=4, label=\"Training data\")\n",
    "\n",
    "    # Plot test data in green\n",
    "    plt.scatter(test_data, test_labels, c=\"g\", s=4, label=\"Test data\")\n",
    "\n",
    "    if predictions is not None:\n",
    "        plt.scatter(test_data, predictions, c=\"r\", s=4, label=\"Predictions\")\n",
    "\n",
    "    plt.legend(prop={\"size\":14})\n",
    "\n",
    "plot_predictions()"
   ]
  },
  {
   "cell_type": "markdown",
   "id": "233e62a7",
   "metadata": {
    "notebookRunGroups": {
     "groupValue": "1"
    }
   },
   "source": [
    "### PyTorch model building essentials\n",
    "\n",
    "* `torch.nn` - contains all of the buildings for computational graphs (e.g. neural networks)\n",
    "* `torch.nn.Parameter` - defines parameters for the model to learn and improve\n",
    "* `torch.nn.Module` - base class for all neural network modules\n",
    "* `torch.optim` - optimizers for gradient descent\n",
    "* `def forward()` - defines what happens in the forward computation of the model, requires overriding   \n",
    "for all `nn.Module` subclasses\n",
    "\n",
    "##### Refer to https://docs.pytorch.org/docs/stable/ for documentation"
   ]
  },
  {
   "cell_type": "markdown",
   "id": "7207cf31",
   "metadata": {},
   "source": [
    "### Linear Regression Model"
   ]
  },
  {
   "cell_type": "code",
   "execution_count": 15,
   "id": "651f1ea7",
   "metadata": {},
   "outputs": [
    {
     "data": {
      "text/plain": [
       "OrderedDict([('linear_layer.weight', tensor([[0.7645]])),\n",
       "             ('linear_layer.bias', tensor([0.8300]))])"
      ]
     },
     "execution_count": 15,
     "metadata": {},
     "output_type": "execute_result"
    }
   ],
   "source": [
    "\"\"\" \n",
    "What model does:\n",
    "    1. Start with random values of weights and biases\n",
    "    2. Look at training data and adjust the random values to get closer to ideal values through\n",
    "        a. Gradient Descent (requires_grad=True)\n",
    "        b. Backpropagation\n",
    "\"\"\"\n",
    "\n",
    "import torch\n",
    "from torch import nn\n",
    "\n",
    "# Create Linear Regression model class\n",
    "class LinearRegressionModel(nn.Module):   # Inherits almost everything in PyTorch\n",
    "    def __init__(self):\n",
    "        super().__init__()\n",
    "        \n",
    "        # nn.Linear() creates linear model parameters\n",
    "        self.linear_layer = nn.Linear(in_features=1, out_features=1)\n",
    "\n",
    "    # Forward method to define the computation in the model \n",
    "    # Any subclass of nn.module needs to override forward()\n",
    "    def forward(self, x:torch.Tensor) -> torch.Tensor:   # x is the input data\n",
    "        return self.linear_layer(x)\n",
    "    \n",
    "torch.manual_seed(42)\n",
    "model_lr = LinearRegressionModel()\n",
    "model_lr.state_dict()"
   ]
  },
  {
   "cell_type": "markdown",
   "id": "a546effd",
   "metadata": {},
   "source": [
    "### Train LR Model"
   ]
  },
  {
   "cell_type": "code",
   "execution_count": 16,
   "id": "89bf431f",
   "metadata": {},
   "outputs": [],
   "source": [
    "# Loss function\n",
    "loss_fn = nn.L1Loss()\n",
    "\n",
    "# Optimizer\n",
    "optimizer = torch.optim.SGD(params=model_lr.parameters(),\n",
    "                            lr=0.01)\n",
    "\n",
    "# Number of epochs (loops)\n",
    "epochs = 165\n",
    "\n",
    "# Initialize empty lists to store values\n",
    "epoch_count = []\n",
    "loss_values = []\n",
    "test_loss_values = []"
   ]
  },
  {
   "cell_type": "code",
   "execution_count": 17,
   "id": "ff95a0f8",
   "metadata": {},
   "outputs": [
    {
     "name": "stdout",
     "output_type": "stream",
     "text": [
      "Epoch: 0 | Loss: 0.5551779866218567 | Test Loss: 0.5739762187004089\n",
      "OrderedDict({'linear_layer.weight': tensor([[0.7606]]), 'linear_layer.bias': tensor([0.8200])})\n",
      "--------------------\n",
      "Epoch: 10 | Loss: 0.4399680495262146 | Test Loss: 0.4392663538455963\n",
      "OrderedDict({'linear_layer.weight': tensor([[0.7216]]), 'linear_layer.bias': tensor([0.7200])})\n",
      "--------------------\n",
      "Epoch: 20 | Loss: 0.3247582018375397 | Test Loss: 0.30455657839775085\n",
      "OrderedDict({'linear_layer.weight': tensor([[0.6826]]), 'linear_layer.bias': tensor([0.6200])})\n",
      "--------------------\n",
      "Epoch: 30 | Loss: 0.20954827964305878 | Test Loss: 0.16984674334526062\n",
      "OrderedDict({'linear_layer.weight': tensor([[0.6436]]), 'linear_layer.bias': tensor([0.5200])})\n",
      "--------------------\n",
      "Epoch: 40 | Loss: 0.09433844685554504 | Test Loss: 0.03513689711689949\n",
      "OrderedDict({'linear_layer.weight': tensor([[0.6046]]), 'linear_layer.bias': tensor([0.4200])})\n",
      "--------------------\n",
      "Epoch: 50 | Loss: 0.023886386305093765 | Test Loss: 0.04784906655550003\n",
      "OrderedDict({'linear_layer.weight': tensor([[0.5872]]), 'linear_layer.bias': tensor([0.3525])})\n",
      "--------------------\n",
      "Epoch: 60 | Loss: 0.0199567973613739 | Test Loss: 0.04580312222242355\n",
      "OrderedDict({'linear_layer.weight': tensor([[0.6025]]), 'linear_layer.bias': tensor([0.3410])})\n",
      "--------------------\n",
      "Epoch: 70 | Loss: 0.016517987474799156 | Test Loss: 0.0375305712223053\n",
      "OrderedDict({'linear_layer.weight': tensor([[0.6196]]), 'linear_layer.bias': tensor([0.3340])})\n",
      "--------------------\n",
      "Epoch: 80 | Loss: 0.013089170679450035 | Test Loss: 0.029944902285933495\n",
      "OrderedDict({'linear_layer.weight': tensor([[0.6366]]), 'linear_layer.bias': tensor([0.3265])})\n",
      "--------------------\n",
      "Epoch: 90 | Loss: 0.009653178043663502 | Test Loss: 0.02167237363755703\n",
      "OrderedDict({'linear_layer.weight': tensor([[0.6537]]), 'linear_layer.bias': tensor([0.3195])})\n",
      "--------------------\n",
      "Epoch: 100 | Loss: 0.006215679459273815 | Test Loss: 0.014086711220443249\n",
      "OrderedDict({'linear_layer.weight': tensor([[0.6707]]), 'linear_layer.bias': tensor([0.3120])})\n",
      "--------------------\n",
      "Epoch: 110 | Loss: 0.002787243574857712 | Test Loss: 0.005814164876937866\n",
      "OrderedDict({'linear_layer.weight': tensor([[0.6878]]), 'linear_layer.bias': tensor([0.3050])})\n",
      "--------------------\n",
      "Epoch: 120 | Loss: 0.0012645035749301314 | Test Loss: 0.013801807537674904\n",
      "OrderedDict({'linear_layer.weight': tensor([[0.6929]]), 'linear_layer.bias': tensor([0.2925])})\n",
      "--------------------\n",
      "Epoch: 130 | Loss: 0.0012645035749301314 | Test Loss: 0.013801807537674904\n",
      "OrderedDict({'linear_layer.weight': tensor([[0.6929]]), 'linear_layer.bias': tensor([0.2925])})\n",
      "--------------------\n",
      "Epoch: 140 | Loss: 0.0012645035749301314 | Test Loss: 0.013801807537674904\n",
      "OrderedDict({'linear_layer.weight': tensor([[0.6929]]), 'linear_layer.bias': tensor([0.2925])})\n",
      "--------------------\n",
      "Epoch: 150 | Loss: 0.0012645035749301314 | Test Loss: 0.013801807537674904\n",
      "OrderedDict({'linear_layer.weight': tensor([[0.6929]]), 'linear_layer.bias': tensor([0.2925])})\n",
      "--------------------\n",
      "Epoch: 160 | Loss: 0.0012645035749301314 | Test Loss: 0.013801807537674904\n",
      "OrderedDict({'linear_layer.weight': tensor([[0.6929]]), 'linear_layer.bias': tensor([0.2925])})\n",
      "--------------------\n",
      "Epoch: 164 | Loss: 0.0012645035749301314 | Test loss: 0.013801807537674904\n",
      "OrderedDict({'linear_layer.weight': tensor([[0.6929]]), 'linear_layer.bias': tensor([0.2925])})\n"
     ]
    }
   ],
   "source": [
    "### Training\n",
    "# 0. Loop through data\n",
    "for epoch in range(epochs):\n",
    "    # Set model to training mode\n",
    "    model_lr.train()   # sets all parameters that require gradients to require gradients\n",
    "\n",
    "    # 1. Forward Pass on train data using the forward() method\n",
    "    y_pred = model_lr(X_train)\n",
    "\n",
    "    # 2. Calculate loss\n",
    "    loss = loss_fn(y_pred, y_train)\n",
    "\n",
    "    # 3. Zero the gradients of the optimizer\n",
    "    optimizer.zero_grad()\n",
    "\n",
    "    # 4. Perform backpropagation on the loss with respect to parameters of the model\n",
    "    loss.backward()\n",
    "\n",
    "    # 5. Step the optimizer (perform gradient descent)\n",
    "    optimizer.step()\n",
    "\n",
    "    ### Testing\n",
    "    # Set model to testing mode\n",
    "    model_lr.eval()   # turns off settings in model not needed for testing\n",
    "    with torch.inference_mode():\n",
    "        # 1. Forward pass\n",
    "        test_pred = model_lr(X_test)\n",
    "\n",
    "        # 2. Calculate loss\n",
    "        test_loss = loss_fn(test_pred, y_test)\n",
    "\n",
    "    if epoch % 10 == 0:\n",
    "        epoch_count.append(epoch)\n",
    "        loss_values.append(loss)\n",
    "        test_loss_values.append(test_loss)  \n",
    "        print(f\"Epoch: {epoch} | Loss: {loss} | Test Loss: {test_loss}\")\n",
    "        print(model_lr.state_dict())\n",
    "        print(\"--------------------\")\n",
    "\n",
    "print(f\"Epoch: {epoch} | Loss: {loss} | Test loss: {test_loss}\")\n",
    "print(model_lr.state_dict())"
   ]
  },
  {
   "cell_type": "markdown",
   "id": "131c69fe",
   "metadata": {},
   "source": [
    "### Make prediction using `torch.inference_mode()`"
   ]
  },
  {
   "cell_type": "code",
   "execution_count": 18,
   "id": "3f7be001",
   "metadata": {},
   "outputs": [
    {
     "data": {
      "image/png": "[encoded data removed]",
      "text/plain": [
       "<Figure size 1000x700 with 1 Axes>"
      ]
     },
     "metadata": {},
     "output_type": "display_data"
    }
   ],
   "source": [
    "with torch.inference_mode():\n",
    "    y_pred = model_lr(X_test)\n",
    "\n",
    "plot_predictions(predictions=y_pred)"
   ]
  },
  {
   "cell_type": "markdown",
   "id": "8205124f",
   "metadata": {},
   "source": [
    "### Plot loss curve"
   ]
  },
  {
   "cell_type": "code",
   "execution_count": 19,
   "id": "877769f4",
   "metadata": {},
   "outputs": [
    {
     "data": {
      "text/plain": [
       "<matplotlib.legend.Legend at 0x2b433398550>"
      ]
     },
     "execution_count": 19,
     "metadata": {},
     "output_type": "execute_result"
    },
    {
     "data": {
      "image/png": "[encoded data removed]",
      "text/plain": [
       "<Figure size 640x480 with 1 Axes>"
      ]
     },
     "metadata": {},
     "output_type": "display_data"
    }
   ],
   "source": [
    "import numpy as np\n",
    "\n",
    "plt.plot(epoch_count, np.array(torch.tensor(loss_values).numpy()), label=\"Train Loss\")\n",
    "plt.plot(epoch_count, test_loss_values, label=\"Test Loss\")\n",
    "plt.title(\"Training and Test Loss Curves\")\n",
    "plt.ylabel(\"Loss\")\n",
    "plt.xlabel(\"Epochs\")\n",
    "plt.legend()\n"
   ]
  },
  {
   "cell_type": "markdown",
   "id": "39f83b37",
   "metadata": {},
   "source": [
    "### Saving and Loading Models"
   ]
  },
  {
   "cell_type": "markdown",
   "id": "c0e2677c",
   "metadata": {},
   "source": [
    "#### Three main methods\n",
    "\n",
    "1. &nbsp; `torch.save()`: Saves a PyTorch object in Python's pickle format\n",
    "2. &nbsp; `torch.load()`: Loads a saved PyTorch object\n",
    "3. &nbsp; `torch.nn.Module.load_state_dict()`: Loads a model's saved state dictionary"
   ]
  },
  {
   "cell_type": "markdown",
   "id": "c4355c73",
   "metadata": {},
   "source": [
    "#### Saving"
   ]
  },
  {
   "cell_type": "code",
   "execution_count": 11,
   "id": "19f449cd",
   "metadata": {},
   "outputs": [
    {
     "name": "stdout",
     "output_type": "stream",
     "text": [
      "Saving model to models\\01. Pytorch Fundamentals LR Model.pth\n"
     ]
    }
   ],
   "source": [
    "from pathlib import Path\n",
    "\n",
    "# 1. Create models directory\n",
    "MODEL_PATH = Path(\"models\")\n",
    "MODEL_PATH.mkdir(parents=True, exist_ok=True)\n",
    "\n",
    "# 2. Create model save path\n",
    "MODEL_NAME = \"01. Pytorch Fundamentals LR Model.pth\"\n",
    "MODEL_SAVE_PATH = MODEL_PATH / MODEL_NAME\n",
    "\n",
    "# 3. Save model state_dict\n",
    "print(f\"Saving model to {MODEL_SAVE_PATH}\")\n",
    "torch.save(obj=model_lr.state_dict(),\n",
    "           f=MODEL_SAVE_PATH)"
   ]
  },
  {
   "cell_type": "markdown",
   "id": "51879263",
   "metadata": {},
   "source": [
    "#### Loading"
   ]
  },
  {
   "cell_type": "code",
   "execution_count": 20,
   "id": "2a71cd0d",
   "metadata": {},
   "outputs": [
    {
     "data": {
      "text/plain": [
       "<All keys matched successfully>"
      ]
     },
     "execution_count": 20,
     "metadata": {},
     "output_type": "execute_result"
    }
   ],
   "source": [
    "# 1. Instantiate a new instance of the model class\n",
    "loaded_model_lr = LinearRegressionModel()\n",
    "\n",
    "# 2. Load the saved statedict of the model\n",
    "loaded_model_lr.load_state_dict(torch.load(f=MODEL_SAVE_PATH))"
   ]
  },
  {
   "cell_type": "code",
   "execution_count": 21,
   "id": "e24854ae",
   "metadata": {},
   "outputs": [
    {
     "data": {
      "text/plain": [
       "(OrderedDict([('linear_layer.weight', tensor([[0.6929]])),\n",
       "              ('linear_layer.bias', tensor([0.2925]))]),\n",
       " OrderedDict([('linear_layer.weight', tensor([[0.6968]])),\n",
       "              ('linear_layer.bias', tensor([0.3025]))]))"
      ]
     },
     "execution_count": 21,
     "metadata": {},
     "output_type": "execute_result"
    }
   ],
   "source": [
    "model_lr.state_dict(), loaded_model_lr.state_dict()"
   ]
  },
  {
   "cell_type": "code",
   "execution_count": 22,
   "id": "aa152f3c",
   "metadata": {},
   "outputs": [
    {
     "data": {
      "text/plain": [
       "(tensor([[0.8600],\n",
       "         [0.8739],\n",
       "         [0.8878],\n",
       "         [0.9018],\n",
       "         [0.9157],\n",
       "         [0.9296],\n",
       "         [0.9436],\n",
       "         [0.9575],\n",
       "         [0.9714],\n",
       "         [0.9854]]),\n",
       " tensor([[0.8468],\n",
       "         [0.8607],\n",
       "         [0.8746],\n",
       "         [0.8884],\n",
       "         [0.9023],\n",
       "         [0.9161],\n",
       "         [0.9300],\n",
       "         [0.9438],\n",
       "         [0.9577],\n",
       "         [0.9716]]))"
      ]
     },
     "execution_count": 22,
     "metadata": {},
     "output_type": "execute_result"
    }
   ],
   "source": [
    "# Make predictions with loaded model\n",
    "loaded_model_lr.eval()\n",
    "with torch.inference_mode():\n",
    "    loaded_model_preds = loaded_model_lr(X_test)\n",
    "\n",
    "loaded_model_preds, y_pred"
   ]
  }
 ],
 "metadata": {
  "kernelspec": {
   "display_name": "Python 3",
   "language": "python",
   "name": "python3"
  },
  "language_info": {
   "codemirror_mode": {
    "name": "ipython",
    "version": 3
   },
   "file_extension": ".py",
   "mimetype": "text/x-python",
   "name": "python",
   "nbconvert_exporter": "python",
   "pygments_lexer": "ipython3",
   "version": "3.13.5"
  }
 },
 "nbformat": 4,
 "nbformat_minor": 5
}
